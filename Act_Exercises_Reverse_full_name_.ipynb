{
  "nbformat": 4,
  "nbformat_minor": 0,
  "metadata": {
    "colab": {
      "provenance": [],
      "authorship_tag": "ABX9TyNTY0SIT4qN1mhH6Ypi2veD",
      "include_colab_link": true
    },
    "kernelspec": {
      "name": "python3",
      "display_name": "Python 3"
    },
    "language_info": {
      "name": "python"
    }
  },
  "cells": [
    {
      "cell_type": "markdown",
      "metadata": {
        "id": "view-in-github",
        "colab_type": "text"
      },
      "source": [
        "<a href=\"https://colab.research.google.com/github/kingpaglinawan/CPEN65-1/blob/main/Act_Exercises_Reverse_full_name_.ipynb\" target=\"_parent\"><img src=\"https://colab.research.google.com/assets/colab-badge.svg\" alt=\"Open In Colab\"/></a>"
      ]
    },
    {
      "cell_type": "code",
      "execution_count": 80,
      "metadata": {
        "colab": {
          "base_uri": "https://localhost:8080/",
          "height": 53
        },
        "id": "OBU_VefjuPLx",
        "outputId": "77979f1b-c1c3-4642-b6f4-95025820c384"
      },
      "outputs": [
        {
          "output_type": "stream",
          "name": "stdout",
          "text": [
            "['Paglinawan', 'R.', 'Adamz', 'John', 'King']\n"
          ]
        },
        {
          "output_type": "execute_result",
          "data": {
            "text/plain": [
              "'nawanilgaP.R,zmadA,nhoJ,gniK'"
            ],
            "application/vnd.google.colaboratory.intrinsic+json": {
              "type": "string"
            }
          },
          "metadata": {},
          "execution_count": 80
        }
      ],
      "source": [
        "#1.Create a python program that use Array \n",
        "#2.inserts each character of your fullname and displays each character of your fullname in reverse order\n",
        "#CODE 1\n",
        "fullname = [\"King\", \"John\",\"Adamz\", \"R.\",\"Paglinawan\"]\n",
        "fullname.reverse()\n",
        "print(fullname)\n",
        "\n",
        "def reversed_order(fullname):\n",
        "     if len(fullname)  ==1:\n",
        "         return fullname\n",
        "     return reversed_order(fullname[1:]) + fullname[:1]\n",
        "reversed_order(\"King,John,Adamz,R.Paglinawan\")"
      ]
    },
    {
      "cell_type": "code",
      "source": [
        "#CODE 2\n",
        "fullname = [\"King\", \"John\",\"Adamz\", \"R.\",\"Paglinawan\"]\n",
        "a = fullname[0]\n",
        "b = fullname[1]\n",
        "c = fullname[2]\n",
        "d = fullname[3]\n",
        "e = fullname[4]\n",
        "print(fullname)\n",
        "print(\"Array[0]=\",a)\n",
        "print(fullname[0][::-1])\n",
        "print(\"Array[1]=\",b)\n",
        "print(fullname[1][::-1])\n",
        "print(\"Array[2]=\",c)\n",
        "print(fullname[2][::-1])\n",
        "print(\"Array[3]=\",d)\n",
        "print(fullname[3][::-1])\n",
        "print(\"Array[4]=\",e)\n",
        "print(fullname[4][::-1])"
      ],
      "metadata": {
        "colab": {
          "base_uri": "https://localhost:8080/"
        },
        "id": "oUyORVwcDknY",
        "outputId": "c45b74a7-83b0-495f-d4fd-f187a0bd5b85"
      },
      "execution_count": 79,
      "outputs": [
        {
          "output_type": "stream",
          "name": "stdout",
          "text": [
            "['King', 'John', 'Adamz', 'R.', 'Paglinawan']\n",
            "Array[0]= King\n",
            "gniK\n",
            "Array[1]= John\n",
            "nhoJ\n",
            "Array[2]= Adamz\n",
            "zmadA\n",
            "Array[3]= R.\n",
            ".R\n",
            "Array[4]= Paglinawan\n",
            "nawanilgaP\n"
          ]
        }
      ]
    }
  ]
}