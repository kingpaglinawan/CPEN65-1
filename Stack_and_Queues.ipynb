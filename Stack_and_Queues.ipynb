{
  "nbformat": 4,
  "nbformat_minor": 0,
  "metadata": {
    "colab": {
      "provenance": [],
      "authorship_tag": "ABX9TyMPn6QYUpVnH3eYiS/O+zV1",
      "include_colab_link": true
    },
    "kernelspec": {
      "name": "python3",
      "display_name": "Python 3"
    },
    "language_info": {
      "name": "python"
    }
  },
  "cells": [
    {
      "cell_type": "markdown",
      "metadata": {
        "id": "view-in-github",
        "colab_type": "text"
      },
      "source": [
        "<a href=\"https://colab.research.google.com/github/kingpaglinawan/CPEN65-1/blob/main/Stack_and_Queues.ipynb\" target=\"_parent\"><img src=\"https://colab.research.google.com/assets/colab-badge.svg\" alt=\"Open In Colab\"/></a>"
      ]
    },
    {
      "cell_type": "code",
      "execution_count": 23,
      "metadata": {
        "colab": {
          "base_uri": "https://localhost:8080/"
        },
        "id": "YWrkDNWbZCqx",
        "outputId": "56ce7448-999c-4e37-a945-63ee32af7379"
      },
      "outputs": [
        {
          "output_type": "stream",
          "name": "stdout",
          "text": [
            "['A', 'B', 'C']\n",
            "['A', 'B']\n",
            "['A']\n"
          ]
        }
      ],
      "source": [
        "class Stack:                  #Stack-_Last-in-First-out (LIFO)\n",
        "  def __init__(self):\n",
        "    self.stack = []                       #stack implementation using OOP concepts\n",
        "\n",
        "  def add(self,dataval):\n",
        "    if dataval not in self.stack:\n",
        "      return self.stack.append(dataval)\n",
        "    else:\n",
        "      return False\n",
        "  def remove(self):\n",
        "    if len(self.stack)<=0:\n",
        "      return(\"No element in the stack\")\n",
        "    else:\n",
        "      return self.stack.pop()\n",
        "\n",
        "AStack = Stack()\n",
        "AStack.add(\"A\")\n",
        "AStack.add(\"B\")\n",
        "AStack.add(\"C\")\n",
        "print(AStack.stack)\n",
        "AStack.remove()\n",
        "print(AStack.stack)\n",
        "AStack.remove()\n",
        "print(AStack.stack)\n",
        "\n",
        "  "
      ]
    },
    {
      "cell_type": "code",
      "source": [
        "#Application 1\n",
        "\n",
        "#Implement the above program by Queues Data Structure (enqueue and dequeue/FIFO principle)\n",
        "class Queues:\n",
        "  def __init__(self):\n",
        "    self.queues = []                      \n",
        "  def add(self,dataval):\n",
        "    if dataval not in self.queues:\n",
        "      return self.queues.append(dataval)\n",
        "    else:\n",
        "      return False\n",
        "  def remove(self):\n",
        "    if len(self.queues)<=0:\n",
        "      return(\"No element in the stack\")\n",
        "    else:\n",
        "      return self.queues.pop(0)\n",
        "\n",
        "AQueues = Queues()\n",
        "AQueues.add(\"A\")\n",
        "AQueues.add(\"B\")\n",
        "AQueues.add(\"C\")\n",
        "AQueues.add(\"D\")\n",
        "print(AQueues.queues)\n",
        "AQueues.remove()\n",
        "print(AQueues.queues)\n",
        "AQueues.remove()\n",
        "print(AQueues.queues)\n",
        "AQueues.remove()\n",
        "print(AQueues.queues)\n"
      ],
      "metadata": {
        "colab": {
          "base_uri": "https://localhost:8080/"
        },
        "id": "sGInNJCKiJ2K",
        "outputId": "756a0710-c242-47c7-933c-7eeb10ed315e"
      },
      "execution_count": 24,
      "outputs": [
        {
          "output_type": "stream",
          "name": "stdout",
          "text": [
            "['A', 'B', 'C', 'D']\n",
            "['B', 'C', 'D']\n",
            "['C', 'D']\n",
            "['D']\n"
          ]
        }
      ]
    }
  ]
}